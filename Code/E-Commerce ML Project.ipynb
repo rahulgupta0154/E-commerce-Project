{
 "cells": [
  {
   "cell_type": "code",
   "execution_count": 0,
   "metadata": {
    "application/vnd.databricks.v1+cell": {
     "cellMetadata": {
      "byteLimit": 2048000,
      "rowLimit": 10000
     },
     "inputWidgets": {},
     "nuid": "2943d191-d925-4284-a56c-d55ca0566d39",
     "showTitle": false,
     "title": ""
    }
   },
   "outputs": [
    {
     "output_type": "stream",
     "name": "stdout",
     "output_type": "stream",
     "text": [
      "Python interpreter will be restarted.\nCollecting textblob\n  Downloading textblob-0.18.0.post0-py3-none-any.whl (626 kB)\nCollecting nltk>=3.8\n  Downloading nltk-3.8.1-py3-none-any.whl (1.5 MB)\nCollecting tqdm\n  Downloading tqdm-4.66.4-py3-none-any.whl (78 kB)\nRequirement already satisfied: click in /databricks/python3/lib/python3.9/site-packages (from nltk>=3.8->textblob) (8.0.4)\nCollecting regex>=2021.8.3\n  Downloading regex-2024.5.15-cp39-cp39-manylinux_2_17_x86_64.manylinux2014_x86_64.whl (774 kB)\nRequirement already satisfied: joblib in /databricks/python3/lib/python3.9/site-packages (from nltk>=3.8->textblob) (1.1.1)\nInstalling collected packages: tqdm, regex, nltk, textblob\nSuccessfully installed nltk-3.8.1 regex-2024.5.15 textblob-0.18.0.post0 tqdm-4.66.4\nPython interpreter will be restarted.\n"
     ]
    }
   ],
   "source": [
    "spark\n",
    "%pip install textblob"
   ]
  },
  {
   "cell_type": "markdown",
   "metadata": {
    "application/vnd.databricks.v1+cell": {
     "cellMetadata": {},
     "inputWidgets": {},
     "nuid": "f2dedfb5-a47c-48eb-b978-323a1d90b3e7",
     "showTitle": false,
     "title": ""
    }
   },
   "source": [
    "##Importing the required libraries"
   ]
  },
  {
   "cell_type": "code",
   "execution_count": 0,
   "metadata": {
    "application/vnd.databricks.v1+cell": {
     "cellMetadata": {
      "byteLimit": 2048000,
      "rowLimit": 10000
     },
     "inputWidgets": {},
     "nuid": "f89f9a43-dcfc-46a8-8eff-d9200fad4023",
     "showTitle": false,
     "title": ""
    }
   },
   "outputs": [],
   "source": [
    "from pyspark.sql import SparkSession\n",
    "from pyspark.sql.functions import *\n",
    "from pyspark.sql.types import *\n",
    "from pyspark.sql.window import *\n",
    "from textblob import TextBlob\n",
    "from pyspark.ml.feature import VectorAssembler, Tokenizer, StopWordsRemover, CountVectorizer, IDF\n",
    "from pyspark.ml.clustering import KMeans\n",
    "from pyspark.ml.regression import LinearRegression\n",
    "from pyspark.ml.classification import LogisticRegression\n",
    "from pyspark.ml.evaluation import ClusteringEvaluator\n",
    "from pyspark.ml import Pipeline\n",
    "\n",
    "import pandas as pd\n",
    "import matplotlib.pyplot as plt\n",
    "import seaborn as sns"
   ]
  },
  {
   "cell_type": "code",
   "execution_count": 0,
   "metadata": {
    "application/vnd.databricks.v1+cell": {
     "cellMetadata": {
      "byteLimit": 2048000,
      "rowLimit": 10000
     },
     "inputWidgets": {},
     "nuid": "2b2017f4-9e3c-4bfc-b697-9b8d3ee4d3fd",
     "showTitle": false,
     "title": ""
    }
   },
   "outputs": [],
   "source": [
    "spark = SparkSession.builder.appName(\"E-Commerce Data Analysis\").getOrCreate()"
   ]
  },
  {
   "cell_type": "code",
   "execution_count": 0,
   "metadata": {
    "application/vnd.databricks.v1+cell": {
     "cellMetadata": {
      "byteLimit": 2048000,
      "rowLimit": 10000
     },
     "inputWidgets": {},
     "nuid": "0ec38ccb-1701-4290-b482-7d14f8230a23",
     "showTitle": false,
     "title": ""
    }
   },
   "outputs": [],
   "source": [
    "#spark.conf.set(\"fs.s3a.access.key\", \"Enter access key here\")\n",
    "#spark.conf.set(\"fs.s3a.secret.key\", \"Enter secret key here\")\n",
    "#spark.conf.set(\"fs.s3a.endpoint\", \"Enter s3 endpoint here\")"
   ]
  },
  {
   "cell_type": "markdown",
   "metadata": {
    "application/vnd.databricks.v1+cell": {
     "cellMetadata": {},
     "inputWidgets": {},
     "nuid": "fe26ca3e-6880-4c4e-bed0-9731ef375705",
     "showTitle": false,
     "title": ""
    }
   },
   "source": [
    "##Schema Definition"
   ]
  },
  {
   "cell_type": "code",
   "execution_count": 0,
   "metadata": {
    "application/vnd.databricks.v1+cell": {
     "cellMetadata": {
      "byteLimit": 2048000,
      "rowLimit": 10000
     },
     "inputWidgets": {},
     "nuid": "b9c730ea-ed4f-4441-9df3-c240755b2288",
     "showTitle": false,
     "title": ""
    }
   },
   "outputs": [],
   "source": [
    "olist_orders_dataset_schema = StructType([\n",
    "    StructField(\"order_id\", StringType(), True),\n",
    "    StructField(\"customer_id\", StringType(), True),\n",
    "    StructField(\"order_status\", StringType(), True),\n",
    "    StructField(\"order_purchase_timestamp\", TimestampType(), True),\n",
    "    StructField(\"order_approved_at\", TimestampType(), True),\n",
    "    StructField(\"order_delivered_carrier_date\", TimestampType(), True),\n",
    "    StructField(\"order_delivered_customer_date\", TimestampType(), True),\n",
    "    StructField(\"order_estimated_delivery_date\", TimestampType(), True)\n",
    "])"
   ]
  },
  {
   "cell_type": "code",
   "execution_count": 0,
   "metadata": {
    "application/vnd.databricks.v1+cell": {
     "cellMetadata": {
      "byteLimit": 2048000,
      "rowLimit": 10000
     },
     "inputWidgets": {},
     "nuid": "74522c16-e2be-4952-bd08-0466bfa3392b",
     "showTitle": false,
     "title": ""
    }
   },
   "outputs": [],
   "source": [
    "olist_order_reviews_dataset_schema =  StructType([\n",
    "    StructField(\"review_id\", StringType(), True),\n",
    "    StructField(\"order_id\", StringType(), True),\n",
    "    StructField(\"review_score\", IntegerType(), True),\n",
    "    StructField(\"review_comment_title\", StringType(), True),\n",
    "    StructField(\"review_comment_message\", StringType(), True),\n",
    "    StructField(\"review_creation_date\", TimestampType(), True),\n",
    "    StructField(\"review_answer_timestamp\", TimestampType(), True)\n",
    "])"
   ]
  },
  {
   "cell_type": "code",
   "execution_count": 0,
   "metadata": {
    "application/vnd.databricks.v1+cell": {
     "cellMetadata": {
      "byteLimit": 2048000,
      "rowLimit": 10000
     },
     "inputWidgets": {},
     "nuid": "4720274b-89d3-4a2d-90e8-7ea8dcf94ca4",
     "showTitle": false,
     "title": ""
    }
   },
   "outputs": [],
   "source": [
    "olist_order_items_dataset_schema = StructType([\n",
    "    StructField(\"order_id\", StringType(), True),\n",
    "    StructField(\"order_item_id\", IntegerType(), True),\n",
    "    StructField(\"product_id\", StringType(), True),\n",
    "    StructField(\"seller_id\", StringType(), True),\n",
    "    StructField(\"shipping_limit_date\", TimestampType(), True),\n",
    "    StructField(\"price\", FloatType(), True),\n",
    "    StructField(\"freight_value\", FloatType(), True)\n",
    "])"
   ]
  },
  {
   "cell_type": "code",
   "execution_count": 0,
   "metadata": {
    "application/vnd.databricks.v1+cell": {
     "cellMetadata": {
      "byteLimit": 2048000,
      "rowLimit": 10000
     },
     "inputWidgets": {},
     "nuid": "e4554b24-2e9c-4e2b-abb0-93b91f313c3a",
     "showTitle": false,
     "title": ""
    }
   },
   "outputs": [],
   "source": [
    "olist_products_dataset_schema = StructType([\n",
    "    StructField(\"product_id\", StringType(), True),\n",
    "    StructField(\"product_category_name\", StringType(), True),\n",
    "    StructField(\"product_name_lenght\", IntegerType(), True),\n",
    "    StructField(\"product_description_length\", IntegerType(), True),\n",
    "    StructField(\"product_photos_qty\", IntegerType(), True),\n",
    "    StructField(\"product_weight_g\", IntegerType(), True),\n",
    "    StructField(\"product_length_cm\", IntegerType(), True),\n",
    "    StructField(\"product_height_cm\", IntegerType(), True),\n",
    "    StructField(\"product_width_cm\", IntegerType(), True)\n",
    "])"
   ]
  },
  {
   "cell_type": "code",
   "execution_count": 0,
   "metadata": {
    "application/vnd.databricks.v1+cell": {
     "cellMetadata": {
      "byteLimit": 2048000,
      "rowLimit": 10000
     },
     "inputWidgets": {},
     "nuid": "e36c9fc7-624b-4bbf-8e12-f40f135fa731",
     "showTitle": false,
     "title": ""
    }
   },
   "outputs": [],
   "source": [
    "olist_order_payments_dataset_schema = StructType([\n",
    "    StructField(\"order_id\", StringType(), True),\n",
    "    StructField(\"payment_sequential\", IntegerType(), True),\n",
    "    StructField(\"payment_type\", StringType(), True),\n",
    "    StructField(\"payment_installments\", IntegerType(), True),\n",
    "    StructField(\"payment_value\", FloatType(), True)\n",
    "])"
   ]
  },
  {
   "cell_type": "code",
   "execution_count": 0,
   "metadata": {
    "application/vnd.databricks.v1+cell": {
     "cellMetadata": {
      "byteLimit": 2048000,
      "rowLimit": 10000
     },
     "inputWidgets": {},
     "nuid": "e838a380-187d-4199-b07d-bc2940b48bf9",
     "showTitle": false,
     "title": ""
    }
   },
   "outputs": [],
   "source": [
    "olist_orders_dataset_df = spark.read.schema(olist_orders_dataset_schema).format(\"csv\").option(\"header\",\"true\").load(\"s3://e-commerce-pjt/olist_orders_dataset.csv\")\n",
    "olist_order_reviews_dataset_df = spark.read.schema(olist_order_reviews_dataset_schema).format(\"csv\").option(\"header\",\"true\").load(\"s3://e-commerce-pjt/olist_order_reviews_dataset.csv\")\n",
    "olist_order_items_dataset_df = spark.read.schema(olist_order_items_dataset_schema).format(\"csv\").option(\"header\",\"true\").load(\"s3://e-commerce-pjt/olist_order_items_dataset.csv\")\n",
    "olist_products_dataset_df = spark.read.schema(olist_products_dataset_schema).format(\"csv\").option(\"header\",\"true\").load(\"s3://e-commerce-pjt/olist_products_dataset.csv\")\n",
    "olist_order_payments_dataset_df = spark.read.schema(olist_order_payments_dataset_schema).format(\"csv\").option(\"header\",\"true\").load(\"s3://e-commerce-pjt/olist_order_payments_dataset.csv\")"
   ]
  },
  {
   "cell_type": "code",
   "execution_count": 0,
   "metadata": {
    "application/vnd.databricks.v1+cell": {
     "cellMetadata": {
      "byteLimit": 2048000,
      "rowLimit": 10000
     },
     "inputWidgets": {},
     "nuid": "d34b13c3-f37d-4781-8538-32e4d9ac2f30",
     "showTitle": false,
     "title": ""
    }
   },
   "outputs": [
    {
     "output_type": "stream",
     "name": "stdout",
     "output_type": "stream",
     "text": [
      "+------------------+\n|delivery_time_days|\n+------------------+\n|                 8|\n|                14|\n|                 9|\n|                14|\n|                 3|\n+------------------+\nonly showing top 5 rows\n\n"
     ]
    }
   ],
   "source": [
    "# 'delivery_time_days' column to include time taken to deliver an order\n",
    "olist_orders_dataset_df = olist_orders_dataset_df.withColumn(\"delivery_time_days\", datediff(col(\"order_delivered_customer_date\"), col(\"order_purchase_timestamp\")))\n",
    "\n",
    "olist_orders_dataset_df.select(\"delivery_time_days\").show(5)"
   ]
  },
  {
   "cell_type": "markdown",
   "metadata": {
    "application/vnd.databricks.v1+cell": {
     "cellMetadata": {},
     "inputWidgets": {},
     "nuid": "93ff32af-943d-49aa-9f01-83c56d653851",
     "showTitle": false,
     "title": ""
    }
   },
   "source": [
    "### 1. Order Value per Day"
   ]
  },
  {
   "cell_type": "code",
   "execution_count": 0,
   "metadata": {
    "application/vnd.databricks.v1+cell": {
     "cellMetadata": {
      "byteLimit": 2048000,
      "rowLimit": 10000
     },
     "inputWidgets": {},
     "nuid": "1708d255-a696-4f36-8f73-6dad01b9047c",
     "showTitle": false,
     "title": ""
    }
   },
   "outputs": [
    {
     "output_type": "stream",
     "name": "stdout",
     "output_type": "stream",
     "text": [
      "+--------------------+------------------+----------------------+-------------------+\n|         customer_id| total_order_value|days_since_first_order|order_value_per_day|\n+--------------------+------------------+----------------------+-------------------+\n|f54a9f0e6b351c431...|19.899999618530273|                     1| 19.899999618530273|\n|2a1dfb647f32f4390...|             445.0|                     1|              445.0|\n|4f28355e5c17a4a42...|             139.0|                     1|              139.0|\n|4632eb5a8f175f6fe...|  79.9000015258789|                     1|   79.9000015258789|\n|843ff05b30ce4f75b...|  84.9000015258789|                     1|   84.9000015258789|\n+--------------------+------------------+----------------------+-------------------+\nonly showing top 5 rows\n\n"
     ]
    }
   ],
   "source": [
    "# Average order value per day for each customer, total order value and number of days for each customer\n",
    "\n",
    "order_value_df = olist_order_items_dataset_df.groupBy(\"order_id\").agg(sum(col(\"price\")).alias(\"order_value\"))\n",
    "orders_with_value_df = olist_orders_dataset_df.join(order_value_df, \"order_id\")\n",
    "\n",
    "customer_orders = orders_with_value_df.groupby(\"customer_id\").agg(sum(\"order_value\").alias(\"total_order_value\"), (datediff(max(\"order_purchase_timestamp\"), min(\"order_purchase_timestamp\")) + 1).alias(\"days_since_first_order\"))\n",
    "\n",
    "customer_orders = customer_orders.withColumn(\"order_value_per_day\", col(\"total_order_value\") / col(\"days_since_first_order\"))\n",
    "\n",
    "customer_orders.show(5)"
   ]
  },
  {
   "cell_type": "markdown",
   "metadata": {
    "application/vnd.databricks.v1+cell": {
     "cellMetadata": {},
     "inputWidgets": {},
     "nuid": "69f399be-797e-4add-841a-4d440e9557b7",
     "showTitle": false,
     "title": ""
    }
   },
   "source": [
    "### 2. Customer Recency, Frequency and Monetary (RFM) Features"
   ]
  },
  {
   "cell_type": "code",
   "execution_count": 0,
   "metadata": {
    "application/vnd.databricks.v1+cell": {
     "cellMetadata": {
      "byteLimit": 2048000,
      "rowLimit": 10000
     },
     "inputWidgets": {},
     "nuid": "26ddf716-a69a-49d5-b691-c460f125e8a1",
     "showTitle": false,
     "title": ""
    }
   },
   "outputs": [
    {
     "output_type": "stream",
     "name": "stdout",
     "output_type": "stream",
     "text": [
      "+--------------------+-------+---------+------------------+\n|         customer_id|recency|frequency|          monetary|\n+--------------------+-------+---------+------------------+\n|f54a9f0e6b351c431...|  -2350|        1|19.899999618530273|\n|2a1dfb647f32f4390...|  -1856|        1|             445.0|\n|4f28355e5c17a4a42...|  -2235|        1|             139.0|\n|4632eb5a8f175f6fe...|  -2039|        1|  79.9000015258789|\n|843ff05b30ce4f75b...|  -2056|        1|  84.9000015258789|\n+--------------------+-------+---------+------------------+\nonly showing top 5 rows\n\n"
     ]
    }
   ],
   "source": [
    "# RFM features to analyze customer behavior.\n",
    "\n",
    "# Assuming current date is 2023-07-01\n",
    "rfm = orders_with_value_df.groupBy(\"customer_id\").agg(\n",
    "    datediff(max(\"order_purchase_timestamp\"), to_date(lit('2023-07-01'))).alias(\"recency\"),  \n",
    "    count(\"order_id\").alias(\"frequency\"),\n",
    "    sum(\"order_value\").alias(\"monetary\")\n",
    ")\n",
    "\n",
    "rfm.show(5)"
   ]
  },
  {
   "cell_type": "markdown",
   "metadata": {
    "application/vnd.databricks.v1+cell": {
     "cellMetadata": {},
     "inputWidgets": {},
     "nuid": "00271f01-7aca-4e56-a07f-c58656aff198",
     "showTitle": false,
     "title": ""
    }
   },
   "source": [
    "### 3. Average Delivery Time"
   ]
  },
  {
   "cell_type": "code",
   "execution_count": 0,
   "metadata": {
    "application/vnd.databricks.v1+cell": {
     "cellMetadata": {
      "byteLimit": 2048000,
      "rowLimit": 10000
     },
     "inputWidgets": {},
     "nuid": "3525016e-7ac3-44e8-ab30-de0e94eb4e47",
     "showTitle": false,
     "title": ""
    }
   },
   "outputs": [
    {
     "output_type": "stream",
     "name": "stdout",
     "output_type": "stream",
     "text": [
      "+--------------------+-----------------+\n|         customer_id|avg_delivery_time|\n+--------------------+-----------------+\n|f54a9f0e6b351c431...|             10.0|\n|2a1dfb647f32f4390...|             17.0|\n|4f28355e5c17a4a42...|             11.0|\n|4632eb5a8f175f6fe...|              5.0|\n|843ff05b30ce4f75b...|             28.0|\n+--------------------+-----------------+\nonly showing top 5 rows\n\n"
     ]
    }
   ],
   "source": [
    "# Calculate average delivery time for each customer\n",
    "avg_delivery_time = olist_orders_dataset_df.groupBy(\"customer_id\").agg(avg(\"delivery_time_days\").alias(\"avg_delivery_time\")\n",
    ")\n",
    "\n",
    "avg_delivery_time.show(5)"
   ]
  },
  {
   "cell_type": "markdown",
   "metadata": {
    "application/vnd.databricks.v1+cell": {
     "cellMetadata": {},
     "inputWidgets": {},
     "nuid": "92ee8fea-4bce-4d64-953b-28cedd09c7e0",
     "showTitle": false,
     "title": ""
    }
   },
   "source": [
    "### 4. Total Items Ordered"
   ]
  },
  {
   "cell_type": "code",
   "execution_count": 0,
   "metadata": {
    "application/vnd.databricks.v1+cell": {
     "cellMetadata": {
      "byteLimit": 2048000,
      "rowLimit": 10000
     },
     "inputWidgets": {},
     "nuid": "00b3c132-6461-4354-8f64-582f57a117c3",
     "showTitle": false,
     "title": ""
    }
   },
   "outputs": [
    {
     "output_type": "stream",
     "name": "stdout",
     "output_type": "stream",
     "text": [
      "+--------------------+-------------------+\n|         customer_id|total_items_ordered|\n+--------------------+-------------------+\n|f54a9f0e6b351c431...|                  1|\n|2a1dfb647f32f4390...|                  1|\n|4f28355e5c17a4a42...|                  1|\n|4632eb5a8f175f6fe...|                  1|\n|843ff05b30ce4f75b...|                  1|\n+--------------------+-------------------+\nonly showing top 5 rows\n\n"
     ]
    }
   ],
   "source": [
    "\n",
    "# Calculate total items ordered by each customer\n",
    "total_items_ordered = olist_order_items_dataset_df.groupBy(\"order_id\").count()\n",
    "total_items_ordered = total_items_ordered.join(orders_with_value_df, \"order_id\").groupBy(\"customer_id\").sum(\"count\")\n",
    "total_items_ordered = total_items_ordered.select(col(\"customer_id\"), col(\"sum(count)\").alias(\"total_items_ordered\"))\n",
    "\n",
    "total_items_ordered.show(5)"
   ]
  },
  {
   "cell_type": "markdown",
   "metadata": {
    "application/vnd.databricks.v1+cell": {
     "cellMetadata": {},
     "inputWidgets": {},
     "nuid": "19e4c9b9-25f6-44e3-92e2-0e92dd4b16d2",
     "showTitle": false,
     "title": ""
    }
   },
   "source": [
    "### 5. Unique Categories Purchased"
   ]
  },
  {
   "cell_type": "code",
   "execution_count": 0,
   "metadata": {
    "application/vnd.databricks.v1+cell": {
     "cellMetadata": {
      "byteLimit": 2048000,
      "rowLimit": 10000
     },
     "inputWidgets": {},
     "nuid": "c9133d3f-04c6-49e8-b281-229096f8d695",
     "showTitle": false,
     "title": ""
    }
   },
   "outputs": [
    {
     "output_type": "stream",
     "name": "stdout",
     "output_type": "stream",
     "text": [
      "+--------------------+---------------------------+\n|         customer_id|unique_categories_purchased|\n+--------------------+---------------------------+\n|61c7dca833a12eaf7...|                          1|\n|0c30d6931a3ecd772...|                          1|\n|8626a2b044790a9ee...|                          1|\n|30f523f7def36192e...|                          1|\n|6aa0f075a2225b4dd...|                          1|\n+--------------------+---------------------------+\nonly showing top 5 rows\n\n"
     ]
    }
   ],
   "source": [
    "\n",
    "# Join order_items_df with products_df to get product categories\n",
    "order_items_with_categories = olist_order_items_dataset_df.join(olist_products_dataset_df, \"product_id\")\n",
    "\n",
    "# Calculate unique categories purchased by each customer\n",
    "unique_categories_purchased = order_items_with_categories.groupBy(\"order_id\", \"product_category_name\").count()\n",
    "unique_categories_purchased = unique_categories_purchased.join(orders_with_value_df, \"order_id\").groupBy(\"customer_id\").count().alias(\"unique_categories\")\n",
    "unique_categories_purchased = unique_categories_purchased.select(col(\"customer_id\"), col(\"count\").alias(\"unique_categories_purchased\"))\n",
    "\n",
    "unique_categories_purchased.show(5)"
   ]
  },
  {
   "cell_type": "markdown",
   "metadata": {
    "application/vnd.databricks.v1+cell": {
     "cellMetadata": {},
     "inputWidgets": {},
     "nuid": "ea3c0e99-c776-4b14-b376-878e96566814",
     "showTitle": false,
     "title": ""
    }
   },
   "source": [
    "### 6. Average Product Price\n"
   ]
  },
  {
   "cell_type": "code",
   "execution_count": 0,
   "metadata": {
    "application/vnd.databricks.v1+cell": {
     "cellMetadata": {
      "byteLimit": 2048000,
      "rowLimit": 10000
     },
     "inputWidgets": {},
     "nuid": "49693cc8-0d65-4b07-8897-c2d60fd5bb45",
     "showTitle": false,
     "title": ""
    }
   },
   "outputs": [
    {
     "output_type": "stream",
     "name": "stdout",
     "output_type": "stream",
     "text": [
      "+--------------------+---------------------+\n|         customer_id|average_product_price|\n+--------------------+---------------------+\n|f82d1df095bf073a1...|    89.98999786376953|\n|6442504c76c94895e...|   59.900001525878906|\n|e139948a02a65f3d6...|                117.0|\n|fb6f8e0cb2c65dfad...|    116.9000015258789|\n|8baeca32aac79a831...|   45.970001220703125|\n+--------------------+---------------------+\nonly showing top 5 rows\n\n"
     ]
    }
   ],
   "source": [
    "\n",
    "# Join olist_order_items_dataset_df with olist_products_dataset_df to get product prices\n",
    "order_items_with_prices = olist_order_items_dataset_df.join(olist_products_dataset_df, \"product_id\")\n",
    "\n",
    "# Calculate average product price for each customer\n",
    "avg_product_price_per_order = order_items_with_prices.groupBy(\"order_id\").agg(avg(\"price\").alias(\"avg_price_per_order\"))\n",
    "\n",
    "order_avg_price_with_customer = avg_product_price_per_order.join(olist_orders_dataset_df, \"order_id\")\n",
    "\n",
    "average_product_price = order_avg_price_with_customer.groupBy(\"customer_id\").agg(avg(\"avg_price_per_order\").alias(\"average_product_price\"))\n",
    "\n",
    "average_product_price.show(5)"
   ]
  },
  {
   "cell_type": "markdown",
   "metadata": {
    "application/vnd.databricks.v1+cell": {
     "cellMetadata": {},
     "inputWidgets": {},
     "nuid": "57414afb-4978-4047-88e4-e3e0ffe317a1",
     "showTitle": false,
     "title": ""
    }
   },
   "source": [
    "### 7. Preferred Payment Type\n"
   ]
  },
  {
   "cell_type": "code",
   "execution_count": 0,
   "metadata": {
    "application/vnd.databricks.v1+cell": {
     "cellMetadata": {
      "byteLimit": 2048000,
      "rowLimit": 10000
     },
     "inputWidgets": {},
     "nuid": "8b9181fd-d27a-4cee-bb1d-338c6192fc42",
     "showTitle": false,
     "title": ""
    }
   },
   "outputs": [
    {
     "output_type": "stream",
     "name": "stdout",
     "output_type": "stream",
     "text": [
      "+--------------------+------------+\n|         customer_id|payment_type|\n+--------------------+------------+\n|00050bf6e01e69d5c...| credit_card|\n|000598caf2ef41174...| credit_card|\n|000bf8121c3412d30...| credit_card|\n|00114026c1b7b52ab...| credit_card|\n|0013cd8e350a7cc76...| credit_card|\n+--------------------+------------+\nonly showing top 5 rows\n\n"
     ]
    }
   ],
   "source": [
    "\n",
    "# Calculate the most frequently used payment type for each customer\n",
    "payment_type_count = olist_order_payments_dataset_df.groupBy(\"order_id\", \"payment_type\").count()\n",
    "payment_type_count = payment_type_count.join(olist_orders_dataset_df, \"order_id\").groupBy(\"customer_id\", \"payment_type\").sum(\"count\").alias(\"total_count\")\n",
    "\n",
    "# Use window function to rank payment types by count for each customer\n",
    "window = Window.partitionBy(\"customer_id\").orderBy(col(\"sum(count)\").desc())\n",
    "ranked_payment_types = payment_type_count.withColumn(\"rank\", row_number().over(window))\n",
    "\n",
    "# Select the most frequently used payment type for each customer\n",
    "preferred_payment_type = ranked_payment_types.filter(col(\"rank\") == 1).select(\"customer_id\", \"payment_type\")\n",
    "\n",
    "preferred_payment_type.show(5)"
   ]
  },
  {
   "cell_type": "markdown",
   "metadata": {
    "application/vnd.databricks.v1+cell": {
     "cellMetadata": {
      "byteLimit": 2048000,
      "rowLimit": 10000
     },
     "inputWidgets": {},
     "nuid": "eb0e1ef5-1f06-4aea-9d00-42a202b73309",
     "showTitle": false,
     "title": ""
    }
   },
   "source": [
    "##Sentiment Scores for Customer Reviews\n",
    "Apply the UDF to the customer reviews data and calculate the sentiment scores."
   ]
  },
  {
   "cell_type": "code",
   "execution_count": 0,
   "metadata": {
    "application/vnd.databricks.v1+cell": {
     "cellMetadata": {
      "byteLimit": 2048000,
      "rowLimit": 10000
     },
     "inputWidgets": {},
     "nuid": "66b8f44c-09c0-4e5f-ab10-a559f9f3d2c5",
     "showTitle": false,
     "title": ""
    }
   },
   "outputs": [],
   "source": [
    "# Define UDF to calculate sentiment polarity\n",
    "def get_sentiment(text):\n",
    "    try:\n",
    "        return TextBlob(text).sentiment.polarity\n",
    "    except:\n",
    "        return None\n",
    "\n",
    "# Register the UDF\n",
    "sentiment_udf = udf(get_sentiment, FloatType())"
   ]
  },
  {
   "cell_type": "code",
   "execution_count": 0,
   "metadata": {
    "application/vnd.databricks.v1+cell": {
     "cellMetadata": {
      "byteLimit": 2048000,
      "rowLimit": 10000
     },
     "inputWidgets": {},
     "nuid": "c16cf2c3-cb1d-403d-840b-0c3fa7d11ea6",
     "showTitle": false,
     "title": ""
    }
   },
   "outputs": [
    {
     "output_type": "stream",
     "name": "stdout",
     "output_type": "stream",
     "text": [
      "+--------------------+-------------------+\n|         customer_id|avg_sentiment_score|\n+--------------------+-------------------+\n|f54a9f0e6b351c431...|               null|\n|2a1dfb647f32f4390...|              0.375|\n|4f28355e5c17a4a42...|                0.0|\n|4632eb5a8f175f6fe...|               null|\n|843ff05b30ce4f75b...|                0.0|\n+--------------------+-------------------+\nonly showing top 5 rows\n\n"
     ]
    }
   ],
   "source": [
    "# Apply UDF to calculate sentiment polarity\n",
    "reviews_df = olist_order_reviews_dataset_df.join(olist_orders_dataset_df, \"order_id\")\n",
    "reviews_df = reviews_df.withColumn(\"sentiment_score\", sentiment_udf(col(\"review_comment_message\")))\n",
    "\n",
    "# Calculate average sentiment score for each customer\n",
    "customer_sentiment = reviews_df.groupBy(\"customer_id\").agg(avg(\"sentiment_score\").alias(\"avg_sentiment_score\"))\n",
    "\n",
    "customer_sentiment.show(5)\n"
   ]
  },
  {
   "cell_type": "markdown",
   "metadata": {
    "application/vnd.databricks.v1+cell": {
     "cellMetadata": {
      "byteLimit": 2048000,
      "rowLimit": 10000
     },
     "inputWidgets": {},
     "nuid": "15618f2f-20a1-45aa-a6fe-aed7647d859b",
     "showTitle": false,
     "title": ""
    }
   },
   "source": [
    "##Combining all the features into a single dataframe"
   ]
  },
  {
   "cell_type": "code",
   "execution_count": 0,
   "metadata": {
    "application/vnd.databricks.v1+cell": {
     "cellMetadata": {
      "byteLimit": 2048000,
      "rowLimit": 10000
     },
     "inputWidgets": {},
     "nuid": "505e1db8-fe17-47c1-829d-d5d73d093884",
     "showTitle": false,
     "title": ""
    }
   },
   "outputs": [
    {
     "output_type": "stream",
     "name": "stdout",
     "output_type": "stream",
     "text": [
      "+--------------------+------------------+----------------------+-------------------+-------+---------+------------------+-----------------+-------------------+-------------------+---------------------------+---------------------+------------+\n|         customer_id| total_order_value|days_since_first_order|order_value_per_day|recency|frequency|          monetary|avg_delivery_time|avg_sentiment_score|total_items_ordered|unique_categories_purchased|average_product_price|payment_type|\n+--------------------+------------------+----------------------+-------------------+-------+---------+------------------+-----------------+-------------------+-------------------+---------------------------+---------------------+------------+\n|f82d1df095bf073a1...| 89.98999786376953|                     1|  89.98999786376953|  -1796|        1| 89.98999786376953|              9.0|                0.0|                  1|                          1|    89.98999786376953| credit_card|\n|6442504c76c94895e...|59.900001525878906|                     1| 59.900001525878906|  -2143|        1|59.900001525878906|             17.0|                0.0|                  1|                          1|   59.900001525878906| credit_card|\n|e139948a02a65f3d6...|             117.0|                     1|              117.0|  -1839|        1|             117.0|              4.0|                0.0|                  1|                          1|                117.0|      boleto|\n|fb6f8e0cb2c65dfad...| 116.9000015258789|                     1|  116.9000015258789|  -1972|        1| 116.9000015258789|             33.0|                0.0|                  1|                          1|    116.9000015258789| credit_card|\n|8baeca32aac79a831...|45.970001220703125|                     1| 45.970001220703125|  -1780|        1|45.970001220703125|              5.0|                0.0|                  1|                          1|   45.970001220703125| credit_card|\n+--------------------+------------------+----------------------+-------------------+-------+---------+------------------+-----------------+-------------------+-------------------+---------------------------+---------------------+------------+\nonly showing top 5 rows\n\n"
     ]
    }
   ],
   "source": [
    "# Combine all features into a single DataFrame\n",
    "features_df = customer_orders \\\n",
    "    .join(rfm, \"customer_id\", \"left\") \\\n",
    "    .join(avg_delivery_time, \"customer_id\", \"left\") \\\n",
    "    .join(customer_sentiment, \"customer_id\", \"left\") \\\n",
    "    .join(total_items_ordered, \"customer_id\", \"left\") \\\n",
    "    .join(unique_categories_purchased, \"customer_id\", \"left\") \\\n",
    "    .join(average_product_price, \"customer_id\", \"left\") \\\n",
    "    .join(preferred_payment_type, \"customer_id\", \"left\")\n",
    "features_df = features_df.fillna(0)\n",
    "features_df.show(5)"
   ]
  },
  {
   "cell_type": "markdown",
   "metadata": {
    "application/vnd.databricks.v1+cell": {
     "cellMetadata": {
      "byteLimit": 2048000,
      "rowLimit": 10000
     },
     "inputWidgets": {},
     "nuid": "de799ef9-7550-4e32-a53e-aa710889e868",
     "showTitle": false,
     "title": ""
    }
   },
   "source": [
    "#Spark ML portion"
   ]
  },
  {
   "cell_type": "markdown",
   "metadata": {
    "application/vnd.databricks.v1+cell": {
     "cellMetadata": {},
     "inputWidgets": {},
     "nuid": "14363a79-b42d-4f70-8b74-23ab050f59b6",
     "showTitle": false,
     "title": ""
    }
   },
   "source": [
    "## 1. Customer Segmentation using KMeans\n"
   ]
  },
  {
   "cell_type": "code",
   "execution_count": 0,
   "metadata": {
    "application/vnd.databricks.v1+cell": {
     "cellMetadata": {
      "byteLimit": 2048000,
      "rowLimit": 10000
     },
     "inputWidgets": {},
     "nuid": "92f9dbcd-7c69-4067-b29f-63db3471484a",
     "showTitle": false,
     "title": ""
    }
   },
   "outputs": [
    {
     "output_type": "stream",
     "name": "stdout",
     "output_type": "stream",
     "text": [
      "Cluster Centers:\n[ 9.16727452e+01  1.00000000e+00  9.16727452e+01 -2.00712401e+03\n  1.00000000e+00  9.16727452e+01  1.20858998e+01  1.06732130e-02\n  1.12422895e+00  1.00759878e+00  8.50056097e+01]\n[ 4.73584930e+02  1.00000000e+00  4.73584930e+02 -2.01376068e+03\n  1.00000000e+00  4.73584930e+02  1.35080053e+01  1.01336108e-02\n  1.30937763e+00  1.01408451e+00  4.22240725e+02]\n[ 1.66930318e+03  1.00000000e+00  1.66930318e+03 -2.01089552e+03\n  1.00000000e+00  1.66930318e+03  1.37072331e+01  9.65963461e-03\n  1.34098737e+00  1.00803674e+00  1.50334501e+03]\n"
     ]
    }
   ],
   "source": [
    "\n",
    "assembler = VectorAssembler(\n",
    "    inputCols=[\"total_order_value\", \"days_since_first_order\", \"order_value_per_day\", \"recency\", \"frequency\", \"monetary\", \"avg_delivery_time\", \"avg_sentiment_score\", \"total_items_ordered\", \"unique_categories_purchased\", \"average_product_price\"],\n",
    "    outputCol=\"features\"\n",
    ")\n",
    "kmeans = KMeans(k=3, seed=1)\n",
    "pipeline = Pipeline(stages=[assembler, kmeans])\n",
    "\n",
    "model = pipeline.fit(features_df)\n",
    "predictions = model.transform(features_df)\n",
    "\n",
    "# Show cluster centers\n",
    "centers = model.stages[-1].clusterCenters()\n",
    "print(\"Cluster Centers:\")\n",
    "for center in centers:\n",
    "    print(center)"
   ]
  },
  {
   "cell_type": "markdown",
   "metadata": {
    "application/vnd.databricks.v1+cell": {
     "cellMetadata": {
      "byteLimit": 2048000,
      "rowLimit": 10000
     },
     "inputWidgets": {},
     "nuid": "f2d37c2c-9d74-4de0-994f-a091852105c5",
     "showTitle": false,
     "title": ""
    }
   },
   "source": [
    "Model Evaluation for KMeans"
   ]
  },
  {
   "cell_type": "code",
   "execution_count": 0,
   "metadata": {
    "application/vnd.databricks.v1+cell": {
     "cellMetadata": {
      "byteLimit": 2048000,
      "rowLimit": 10000
     },
     "inputWidgets": {},
     "nuid": "38059ebf-a24a-426b-81e8-eee9890e223e",
     "showTitle": false,
     "title": ""
    }
   },
   "outputs": [
    {
     "output_type": "stream",
     "name": "stdout",
     "output_type": "stream",
     "text": [
      "Silhouette Score: 0.8351127057076846\n"
     ]
    }
   ],
   "source": [
    "evaluator = ClusteringEvaluator()\n",
    "silhouette = evaluator.evaluate(predictions)\n",
    "print(f\"Silhouette Score: {silhouette}\")\n"
   ]
  },
  {
   "cell_type": "markdown",
   "metadata": {
    "application/vnd.databricks.v1+cell": {
     "cellMetadata": {},
     "inputWidgets": {},
     "nuid": "be1b3f87-9e2c-416c-9d52-bd2f4b9d2e28",
     "showTitle": false,
     "title": ""
    }
   },
   "source": [
    "## 2. Predictive Modeling for Customer Lifetime Value (CLV)\n"
   ]
  },
  {
   "cell_type": "code",
   "execution_count": 0,
   "metadata": {
    "application/vnd.databricks.v1+cell": {
     "cellMetadata": {
      "byteLimit": 2048000,
      "rowLimit": 10000
     },
     "inputWidgets": {},
     "nuid": "936f0972-9968-4921-b771-d9fa69f76ced",
     "showTitle": false,
     "title": ""
    }
   },
   "outputs": [
    {
     "output_type": "stream",
     "name": "stdout",
     "output_type": "stream",
     "text": [
      "R2: 1.0, RMSE: 3.639715960453995e-07\n"
     ]
    }
   ],
   "source": [
    "assembler = VectorAssembler(\n",
    "    inputCols=[\"total_order_value\", \"days_since_first_order\", \"order_value_per_day\", \"recency\", \"frequency\", \"monetary\", \"avg_delivery_time\", \"avg_sentiment_score\", \"total_items_ordered\", \"unique_categories_purchased\", \"average_product_price\"],\n",
    "    outputCol=\"features\"\n",
    ")\n",
    "output = assembler.transform(features_df)\n",
    "final_data = output.select(\"features\", \"total_order_value\")\n",
    "\n",
    "train_data, test_data = final_data.randomSplit([0.8, 0.2])\n",
    "\n",
    "lr = LinearRegression(labelCol=\"total_order_value\")\n",
    "lr_model = lr.fit(train_data)\n",
    "\n",
    "test_results = lr_model.evaluate(test_data)\n",
    "print(f\"R2: {test_results.r2}, RMSE: {test_results.rootMeanSquaredError}\")"
   ]
  }
 ],
 "metadata": {
  "application/vnd.databricks.v1+notebook": {
   "dashboards": [],
   "environmentMetadata": null,
   "language": "python",
   "notebookMetadata": {
    "pythonIndentUnit": 4
   },
   "notebookName": "E-Commerce ML Project",
   "widgets": {}
  }
 },
 "nbformat": 4,
 "nbformat_minor": 0
}
